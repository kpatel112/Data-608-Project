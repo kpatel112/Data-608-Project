import dash
from dash import dcc, html
from dash.dependencies import Input, Output, State
import pandas as pd
import plotly.express as px
import boto3

# Initialize Dash app
app = dash.Dash(__name__)

# Set up AWS S3 connection
s3 = boto3.client('s3')
bucket_name = '608project'

def load_data(year):
    file_path = f's3://{bucket_name}/data_{year}.parquet'
    return pd.read_parquet(file_path)

# Define the layout of the app
app.layout = html.Div([
    html.H1("New York Crime Data Dashboard"),
    dcc.Dropdown(
        id='year-dropdown',
        options=[{'label': str(year), 'value': year} for year in range(2001, 2024)] + [{'label': 'Select All', 'value': 'all'}],
        value=['2023'],
        multi=True,
        style={'width': '50%'}
    ),
    dcc.Dropdown(
        id='borough-dropdown',
        options=[
            {'label': 'Manhattan', 'value': 'MANHATTAN'},
            {'label': 'Bronx', 'value': 'BRONX'},
            {'label': 'Brooklyn', 'value': 'BROOKLYN'},
            {'label': 'Queens', 'value': 'QUEENS'},
            {'label': 'Staten Island', 'value': 'STATEN ISLAND'}
        ] + [{'label': 'Select All', 'value': 'all'}],
        value=['MANHATTAN'],
        multi=True,
        style={'width': '50%'}
    ),
    dcc.Dropdown(
        id='offense-dropdown',
        options=[{'label': offense, 'value': offense} for offense in [
            'VIOLENT CRIMES', 'DRUG-RELATED OFFENSES', 'ASSAULT', 'THEFT',
            'CRIMINAL TRESPASS', 'SEXUAL OFFENSES', 'ADMIN AND STATE LAWS', 
            'WEAPONS', 'PUBLIC ORDER', 'FRAUD AND FORGERY', 'CRIMINAL MISCHIEF & RELATED OF',
            'PUBLIC SAFETY AND MORALITY', 'TRAFFIC OFFENSES', 'HARRASSMENT 2', '(null)',
            'OTHER OFFENSES RELATED TO THEF', 'MISC OFFENSES', 'KIDNAPPING & RELATED OFFENSES', 
            'LOITERING/GAMBLING (CARDS, DIC', 'CRIMINAL MISCHIEF & RELATED OFFENSES', 'HARASSMENT',
            'UNAUTHORIZED USE OF A VEHICLE 3 (UUV)'
        ]] + [{'label': 'Select All', 'value': 'all'}],
        value=['VIOLENT CRIMES'],
        multi=True,
        style={'width': '50%'}
    ),
    dcc.Dropdown(
        id='ethnicity-dropdown',
        options=[{'label': ethnicity, 'value': ethnicity} for ethnicity in [
            'BLACK', 'WHITE', 'WHITE HISPANIC', 'BLACK HISPANIC',
            'ASIAN / PACIFIC ISLANDER', 'UNKNOWN', 'OTHER',
            'AMERICAN INDIAN/ALASKAN NATIVE'
        ]] + [{'label': 'Select All', 'value': 'all'}],
        value=['BLACK'],
        multi=True,
        style={'width': '50%'}
    ),
    dcc.Dropdown(
        id='gender-dropdown',
        options=[{'label': gender, 'value': gender} for gender in ['M', 'F', 'U']] + [{'label': 'Select All', 'value': 'all'}],
        value=['M'],
        multi=True,
        style={'width': '50%'}
    ),
    dcc.Dropdown(
        id='age-category-dropdown',
        options=[{'label': age, 'value': age} for age in [
            '25-44', '45-64', '18-24', '<18', '65+'
        ]] + [{'label': 'Select All', 'value': 'all'}],
        value=['25-44'],
        multi=True,
        style={'width': '50%'}
    ),
    html.Button('Apply', id='apply-button', n_clicks=0),
    dcc.Graph(id='crime-graph'),
    html.Div(id='output-container')
])

# Define the callback to update data based on selected filters
@app.callback(
    Output('crime-graph', 'figure'),
    [Input('apply-button', 'n_clicks')],
    [
        State('year-dropdown', 'value'),
        State('borough-dropdown', 'value'),
        State('offense-dropdown', 'value'),
        State('ethnicity-dropdown', 'value'),
        State('gender-dropdown', 'value'),
        State('age-category-dropdown', 'value')
    ]
)
def update_output(n_clicks, selected_years, selected_boroughs, selected_offenses, selected_ethnicities, selected_genders, selected_age_categories):
    if n_clicks > 0:
        # Handle 'Select All' for each filter
        years = range(2001, 2024) if 'all' in selected_years else selected_years
        boroughs = ['MANHATTAN', 'BRONX', 'BROOKLYN', 'QUEENS', 'STATEN ISLAND'] if 'all' in selected_boroughs else selected_boroughs
        offenses = [
            'VIOLENT CRIMES', 'DRUG-RELATED OFFENSES', 'ASSAULT', 'THEFT',
            'CRIMINAL TRESPASS', 'SEXUAL OFFENSES', 'ADMIN AND STATE LAWS', 
            'WEAPONS', 'PUBLIC ORDER', 'FRAUD AND FORGERY', 'CRIMINAL MISCHIEF & RELATED OF',
            'PUBLIC SAFETY AND MORALITY', 'TRAFFIC OFFENSES', 'HARRASSMENT 2', '(null)',
            'OTHER OFFENSES RELATED TO THEF', 'MISC OFFENSES', 'KIDNAPPING & RELATED OFFENSES', 
            'LOITERING/GAMBLING (CARDS, DIC', 'CRIMINAL MISCHIEF & RELATED OFFENSES', 'HARASSMENT',
            'UNAUTHORIZED USE OF A VEHICLE 3 (UUV)'
        ] if 'all' in selected_offenses else selected_offenses
        ethnicities = [
            'BLACK', 'WHITE', 'WHITE HISPANIC', 'BLACK HISPANIC',
            'ASIAN / PACIFIC ISLANDER', 'UNKNOWN', 'OTHER',
            'AMERICAN INDIAN/ALASKAN NATIVE'
        ] if 'all' in selected_ethnicities else selected_ethnicities
        genders = ['M', 'F', 'U'] if 'all' in selected_genders else selected_genders
        age_categories = ['25-44', '45-64', '18-24', '<18', '65+'] if 'all' in selected_age_categories else selected_age_categories

        data_frames = [load_data(year) for year in years]
        data = pd.concat(data_frames)
        
        filtered_data = data[
            (data['borough'].isin(boroughs)) &
            (data['offense'].isin(offenses)) &
            (data['ethnicity'].isin(ethnicities)) &
            (data['gender'].isin(genders)) &
            (data['age_category'].isin(age_categories))
        ]
        
        # Example visualization
        fig = px.scatter(filtered_data, x='date', y='crime_count', color='crime_type', 
                         title=f'Crime Data for Selected Filters')
        
        return fig
    return px.scatter(title="Select filters and click Apply")

# Run the application
if __name__ == '__main__':
    app.run_server(debug=True, host='0.0.0.0')
