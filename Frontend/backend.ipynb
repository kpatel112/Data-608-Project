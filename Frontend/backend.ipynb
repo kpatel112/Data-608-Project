{
 "cells": [
  {
   "cell_type": "code",
   "execution_count": null,
   "id": "0ef717a6-839e-40d3-a932-89e28e5eecc3",
   "metadata": {},
   "outputs": [],
   "source": [
    "from flask import Flask, request, jsonify\n",
    "from flask_cors import CORS\n",
    "import dask.dataframe as dd\n",
    "from dask.distributed import Client, LocalCluster\n",
    "import boto3\n",
    "\n",
    "# Initialize Flask app and enable CORS\n",
    "app = Flask(__name__)\n",
    "CORS(app)\n",
    "\n",
    "# Initialize Dask client\n",
    "cluster = LocalCluster(n_workers=4)\n",
    "client = Client(cluster)\n",
    "\n",
    "# Set up AWS S3 connection\n",
    "s3 = boto3.client('s3')\n",
    "bucket_name = '608project'\n",
    "\n",
    "def load_data(year):\n",
    "    file_path = f's3://{bucket_name}/data_{year}.parquet'\n",
    "    return dd.read_parquet(file_path)\n",
    "\n",
    "def filter_data(data, boroughs, offenses, ethnicities, genders, age_categories):\n",
    "    return data[\n",
    "        (data['borough'].isin(boroughs)) &\n",
    "        (data['offense'].isin(offenses)) &\n",
    "        (data['ethnicity'].isin(ethnicities)) &\n",
    "        (data['gender'].isin(genders)) &\n",
    "        (data['age_category'].isin(age_categories))\n",
    "    ]\n",
    "\n",
    "@app.route('/filter', methods=['POST'])\n",
    "def filter_data_endpoint():\n",
    "    req = request.json\n",
    "    years = req.get('years', [])\n",
    "    boroughs = req.get('boroughs', [])\n",
    "    offenses = req.get('offenses', [])\n",
    "    ethnicities = req.get('ethnicities', [])\n",
    "    genders = req.get('genders', [])\n",
    "    age_categories = req.get('age_categories', [])\n",
    "\n",
    "    # Load and concatenate data for the specified years\n",
    "    data_frames = [load_data(year) for year in years]\n",
    "    data = dd.concat(data_frames)\n",
    "\n",
    "    # Filter the data\n",
    "    filtered_data = filter_data(data, boroughs, offenses, ethnicities, genders, age_categories).compute()\n",
    "\n",
    "    return jsonify(filtered_data.to_dict(orient='records'))\n",
    "\n",
    "if __name__ == '__main__':\n",
    "    app.run(debug=True, host='0.0.0.0', port=5000)\n"
   ]
  }
 ],
 "metadata": {
  "kernelspec": {
   "display_name": "Python 3 (ipykernel)",
   "language": "python",
   "name": "python3"
  },
  "language_info": {
   "codemirror_mode": {
    "name": "ipython",
    "version": 3
   },
   "file_extension": ".py",
   "mimetype": "text/x-python",
   "name": "python",
   "nbconvert_exporter": "python",
   "pygments_lexer": "ipython3",
   "version": "3.12.3"
  }
 },
 "nbformat": 4,
 "nbformat_minor": 5
}
