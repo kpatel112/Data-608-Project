{
 "cells": [
  {
   "cell_type": "code",
   "execution_count": null,
   "id": "ae0c424e-d998-4c15-a356-4656c0b0b49e",
   "metadata": {},
   "outputs": [],
   "source": [
    "import boto3\n",
    "import dask.dataframe as dd\n",
    "from dask.distributed import Client, LocalCluster\n",
    "\n",
    "# Initialize Dask client\n",
    "cluster = LocalCluster(n_workers=4)\n",
    "client = Client(cluster)\n",
    "\n",
    "# Set up AWS S3 connection\n",
    "s3 = boto3.client('s3')\n",
    "bucket_name = '608project'\n",
    "\n",
    "def load_data(year):\n",
    "    file_path = f's3://{bucket_name}/data_{year}.parquet'\n",
    "    return dd.read_parquet(file_path)\n",
    "\n",
    "def filter_data(data, boroughs, offenses, ethnicities, genders, age_categories):\n",
    "    return data[\n",
    "        (data['borough'].isin(boroughs)) &\n",
    "        (data['offense'].isin(offenses)) &\n",
    "        (data['ethnicity'].isin(ethnicities)) &\n",
    "        (data['gender'].isin(genders)) &\n",
    "        (data['age_category'].isin(age_categories))\n",
    "    ]\n"
   ]
  }
 ],
 "metadata": {
  "kernelspec": {
   "display_name": "Python 3 (ipykernel)",
   "language": "python",
   "name": "python3"
  },
  "language_info": {
   "codemirror_mode": {
    "name": "ipython",
    "version": 3
   },
   "file_extension": ".py",
   "mimetype": "text/x-python",
   "name": "python",
   "nbconvert_exporter": "python",
   "pygments_lexer": "ipython3",
   "version": "3.12.3"
  }
 },
 "nbformat": 4,
 "nbformat_minor": 5
}
