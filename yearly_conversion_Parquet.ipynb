{
 "cells": [
  {
   "cell_type": "code",
   "execution_count": null,
   "id": "9b3af61d-c36f-4cdf-8bea-5a949add8587",
   "metadata": {},
   "outputs": [],
   "source": [
    "import s3fs\n",
    "import pandas as pd\n",
    "\n",
    "fs = s3fs.S3FileSystem()\n",
    "\n",
    "bucket_name = '608project'\n",
    "file_path = f's3://{bucket_name}/nypd_cleaned.parquet'\n",
    "\n",
    "df = pd.read_parquet(file_path, engine='pyarrow', filesystem=fs)\n",
    "\n",
    "# Convert ARREST_DATE to datetime format\n",
    "df['ARREST_DATE'] = pd.to_datetime(df['ARREST_DATE'], errors='coerce')\n",
    "\n",
    "years = list(range(2006, 2025))\n",
    "for year in years:\n",
    "    year_df = df[df['ARREST_DATE'].dt.year == year]\n",
    "    \n",
    "    filtered_file_path = f's3://{bucket_name}/nypd_cleaned_{year}.parquet'\n",
    "    \n",
    "    year_df.to_parquet(filtered_file_path, engine='pyarrow', index=False, filesystem=fs)\n",
    "    \n",
    "    print(f\"Filtered data for year {year} has been saved to: {filtered_file_path}\")\n"
   ]
  }
 ],
 "metadata": {
  "kernelspec": {
   "display_name": "Python 3 (ipykernel)",
   "language": "python",
   "name": "python3"
  },
  "language_info": {
   "codemirror_mode": {
    "name": "ipython",
    "version": 3
   },
   "file_extension": ".py",
   "mimetype": "text/x-python",
   "name": "python",
   "nbconvert_exporter": "python",
   "pygments_lexer": "ipython3",
   "version": "3.12.3"
  }
 },
 "nbformat": 4,
 "nbformat_minor": 5
}
